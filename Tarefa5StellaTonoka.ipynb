{
  "nbformat": 4,
  "nbformat_minor": 0,
  "metadata": {
    "colab": {
      "provenance": [],
      "authorship_tag": "ABX9TyM9sWwqeX/Aic+4nZKBV9F3",
      "include_colab_link": true
    },
    "kernelspec": {
      "name": "python3",
      "display_name": "Python 3"
    },
    "language_info": {
      "name": "python"
    }
  },
  "cells": [
    {
      "cell_type": "markdown",
      "metadata": {
        "id": "view-in-github",
        "colab_type": "text"
      },
      "source": [
        "<a href=\"https://colab.research.google.com/github/stellatonoka/BasesComputacionais/blob/master/Tarefa5StellaTonoka.ipynb\" target=\"_parent\"><img src=\"https://colab.research.google.com/assets/colab-badge.svg\" alt=\"Open In Colab\"/></a>"
      ]
    },
    {
      "cell_type": "code",
      "execution_count": null,
      "metadata": {
        "id": "9yE3Hf_kYGYe"
      },
      "outputs": [],
      "source": [
        "#Stella Tonoka trabalho"
      ]
    },
    {
      "cell_type": "code",
      "source": [
        "import numpy as np"
      ],
      "metadata": {
        "id": "ZlNCluD4YOf2"
      },
      "execution_count": null,
      "outputs": []
    },
    {
      "cell_type": "code",
      "source": [
        "import matplotlib.pyplot as plt"
      ],
      "metadata": {
        "id": "fzapTzruYdle"
      },
      "execution_count": null,
      "outputs": []
    },
    {
      "cell_type": "code",
      "source": [
        "t=np.linspace(0,5,50)\n",
        "h=-t**2 +4*t\n",
        "plt.figure()\n",
        "plt.plot(t,h, color='violet', marker='o', linestyle='--')\n",
        "plt.grid()\n",
        "plt.title('h(t)=t**2+4t')\n",
        "plt.xlabel('t (tempo)')\n",
        "plt.ylabel('h (altura)')\n",
        "plt.show()\n",
        "# t=tempo | t=[s]; Altura=h | h=[m]"
      ],
      "metadata": {
        "colab": {
          "base_uri": "https://localhost:8080/",
          "height": 295
        },
        "id": "WyH1sv_TbZ7b",
        "outputId": "628ab0f8-30ca-4a57-acdc-c6896a4ab165"
      },
      "execution_count": null,
      "outputs": [
        {
          "output_type": "display_data",
          "data": {
            "text/plain": [
              "<Figure size 432x288 with 1 Axes>"
            ],
            "image/png": "[encoded data removed]"
          },
          "metadata": {
            "needs_background": "light"
          }
        }
      ]
    },
    {
      "cell_type": "code",
      "source": [
        "np.max(h)\n",
        "#Altura máxima atingida no lançamento (h máx) em metros."
      ],
      "metadata": {
        "colab": {
          "base_uri": "https://localhost:8080/"
        },
        "id": "kXEvUDnddmVX",
        "outputId": "c0be9975-675d-4d3d-eecc-c3a502a825f0"
      },
      "execution_count": null,
      "outputs": [
        {
          "output_type": "execute_result",
          "data": {
            "text/plain": [
              "3.9983340274885464"
            ]
          },
          "metadata": {},
          "execution_count": 31
        }
      ]
    },
    {
      "cell_type": "code",
      "source": [],
      "metadata": {
        "id": "8K6KlcBae9rP"
      },
      "execution_count": null,
      "outputs": []
    }
  ]
}