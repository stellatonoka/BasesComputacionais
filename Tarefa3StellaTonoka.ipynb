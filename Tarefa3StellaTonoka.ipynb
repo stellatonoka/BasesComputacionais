{
  "nbformat": 4,
  "nbformat_minor": 0,
  "metadata": {
    "colab": {
      "provenance": [],
      "authorship_tag": "ABX9TyNQ104fBUuz8JnqTj8mwxvS",
      "include_colab_link": true
    },
    "kernelspec": {
      "name": "python3",
      "display_name": "Python 3"
    },
    "language_info": {
      "name": "python"
    }
  },
  "cells": [
    {
      "cell_type": "markdown",
      "metadata": {
        "id": "view-in-github",
        "colab_type": "text"
      },
      "source": [
        "<a href=\"https://colab.research.google.com/github/stellatonoka/BasesComputacionais/blob/master/Tarefa3StellaTonoka.ipynb\" target=\"_parent\"><img src=\"https://colab.research.google.com/assets/colab-badge.svg\" alt=\"Open In Colab\"/></a>"
      ]
    },
    {
      "cell_type": "code",
      "execution_count": null,
      "metadata": {
        "id": "-5XgCNBdZRGw"
      },
      "outputs": [],
      "source": [
        "# Tarefa 3\n",
        "Stella Yumi Tonoka"
      ]
    },
    {
      "cell_type": "code",
      "source": [
        "seconds_in_an_hour_and_half=60*60+30*60\n",
        "seconds_in_an_hour_and_half\n",
        "print(f'Segundos em uma hora e meia: {seconds_in_an_hour_and_half: .1f}')"
      ],
      "metadata": {
        "colab": {
          "base_uri": "https://localhost:8080/"
        },
        "id": "kxTXwT9zZZpA",
        "outputId": "5af4fea3-0e90-4ca4-c9dd-2bfa383d878b"
      },
      "execution_count": 9,
      "outputs": [
        {
          "output_type": "stream",
          "name": "stdout",
          "text": [
            "Segundos em 1 hora e meia:  5400.0\n"
          ]
        }
      ]
    },
    {
      "cell_type": "code",
      "source": [
        "seconds_in_12_hours=12*60*60\n",
        "seconds_in_12_hours\n",
        "print(f'Segundos em 12 horas: {seconds_in_12_hours: .1f} ')"
      ],
      "metadata": {
        "colab": {
          "base_uri": "https://localhost:8080/"
        },
        "id": "cRBKyX0sZdgn",
        "outputId": "9eb6491d-05f1-4000-c8ba-2a03d4ce4755"
      },
      "execution_count": 10,
      "outputs": [
        {
          "output_type": "stream",
          "name": "stdout",
          "text": [
            "Segundos em 12 horas:  43200.0 \n"
          ]
        }
      ]
    },
    {
      "cell_type": "code",
      "source": [
        "seconds_in_24_hours=24*60*60\n",
        "seconds_in_24_hours\n",
        "print(f'Segundos em 24 horas: {seconds_in_24_hours: .1f} ')"
      ],
      "metadata": {
        "colab": {
          "base_uri": "https://localhost:8080/"
        },
        "id": "eceYYvT_Zfn3",
        "outputId": "cb310198-eaa6-440d-bd24-5fb5cbf77b0f"
      },
      "execution_count": 11,
      "outputs": [
        {
          "output_type": "stream",
          "name": "stdout",
          "text": [
            "Segundos em 24 horas:  86400.0 \n"
          ]
        }
      ]
    },
    {
      "cell_type": "markdown",
      "source": [
        "Em cada hora há 60 minutos e em cada minuto há 60 segundos, respectivamente devemos multiplicar o número de horas solicitado no exercício por 60 para obtermos em minutos e após isso, multiplicar por 60 novamente para obtermos em segundos."
      ],
      "metadata": {
        "id": "KPbARVlYaoE5"
      }
    },
    {
      "cell_type": "code",
      "source": [],
      "metadata": {
        "id": "PINbVbtwc8_E"
      },
      "execution_count": null,
      "outputs": []
    }
  ]
}